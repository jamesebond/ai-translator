{
 "cells": [
  {
   "cell_type": "code",
   "execution_count": 7,
   "metadata": {},
   "outputs": [],
   "source": [
    "import csv\n",
    "import random\n",
    "\n",
    "def write_parallel_sentences(original_language, target_language, output_file_path, original_file_paths, target_file_paths):\n",
    "    s = set()\n",
    "    with open(output_file_path, 'w', newline='', encoding='utf-8') as output_file:\n",
    "        writer = csv.writer(output_file, delimiter='\\t')\n",
    "        writer.writerow([original_language, target_language])\n",
    "        \n",
    "        sentences = []\n",
    "        for original_file, target_file in zip(original_file_paths, target_file_paths):\n",
    "            with open(original_file, 'r', encoding='utf-8') as original, open(target_file, 'r', encoding='utf-8') as target:\n",
    "                original_sentences = original.readlines()\n",
    "                target_sentences = target.readlines()\n",
    "                for original_sentence, target_sentence in zip(original_sentences, target_sentences):\n",
    "                    original_sentence = original_sentence.strip()\n",
    "                    target_sentence = target_sentence.strip()\n",
    "                    if not original_sentence in s:\n",
    "                        sentences.append([original_sentence, target_sentence])\n",
    "                        s.add(original_sentence)\n",
    "        \n",
    "        # 随机打乱第 2 行到最后一行\n",
    "        header = sentences[0]\n",
    "        data = sentences[1:]\n",
    "        random.shuffle(data)\n",
    "        shuffled_sentences = [header] + data\n",
    "        \n",
    "        writer.writerows(shuffled_sentences)"
   ]
  },
  {
   "cell_type": "code",
   "execution_count": 8,
   "metadata": {},
   "outputs": [],
   "source": [
    "original_file_paths = [\n",
    "    r\"C:\\Users\\wangz\\Downloads\\zh-thai\\MultiCCAligned\\MultiCCAligned.th-zh_CN.zh_CN\",\n",
    "    r\"C:\\Users\\wangz\\Downloads\\zh-thai\\Ubuntu\\Ubuntu.th-zh_CN.zh_CN\",\n",
    "    r\"C:\\Users\\wangz\\Downloads\\zh-thai\\GNOME\\GNOME.th-zh_CN.zh_CN\",\n",
    "    r\"C:\\Users\\wangz\\Downloads\\zh-thai\\KDE4\\KDE4.th-zh_CN.zh_CN\",\n",
    "    r\"C:\\Users\\wangz\\Downloads\\zh-thai\\ELRC-wikipedia_health\\ELRC-wikipedia_health.th-zh.zh\",\n",
    "    r\"C:\\Users\\wangz\\Downloads\\zh-thai\\Tanzil\\Tanzil.th-zh.zh\",\n",
    "    r\"C:\\Users\\wangz\\Downloads\\zh-thai\\bible-uedin\\bible-uedin.th-zh.zh\"\n",
    "]\n",
    "\n",
    "target_file_paths = [\n",
    "    r\"C:\\Users\\wangz\\Downloads\\zh-thai\\MultiCCAligned\\MultiCCAligned.th-zh_CN.th\",\n",
    "    r\"C:\\Users\\wangz\\Downloads\\zh-thai\\Ubuntu\\Ubuntu.th-zh_CN.th\",\n",
    "    r\"C:\\Users\\wangz\\Downloads\\zh-thai\\GNOME\\GNOME.th-zh_CN.th\",\n",
    "    r\"C:\\Users\\wangz\\Downloads\\zh-thai\\KDE4\\KDE4.th-zh_CN.th\",\n",
    "    r\"C:\\Users\\wangz\\Downloads\\zh-thai\\ELRC-wikipedia_health\\ELRC-wikipedia_health.th-zh.th\",\n",
    "    r\"C:\\Users\\wangz\\Downloads\\zh-thai\\Tanzil\\Tanzil.th-zh.th\",\n",
    "    r\"C:\\Users\\wangz\\Downloads\\zh-thai\\bible-uedin\\bible-uedin.th-zh.th\"\n",
    "]\n",
    "\n",
    "write_parallel_sentences('zh','thai','zh-thai.csv', original_file_paths, target_file_paths)"
   ]
  }
 ],
 "metadata": {
  "kernelspec": {
   "display_name": "base",
   "language": "python",
   "name": "python3"
  },
  "language_info": {
   "codemirror_mode": {
    "name": "ipython",
    "version": 3
   },
   "file_extension": ".py",
   "mimetype": "text/x-python",
   "name": "python",
   "nbconvert_exporter": "python",
   "pygments_lexer": "ipython3",
   "version": "3.11.7"
  }
 },
 "nbformat": 4,
 "nbformat_minor": 2
}
