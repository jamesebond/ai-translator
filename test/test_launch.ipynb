{
 "cells": [
  {
   "cell_type": "code",
   "execution_count": 34,
   "metadata": {},
   "outputs": [
    {
     "name": "stdout",
     "output_type": "stream",
     "text": [
      "Running on local URL:  http://127.0.0.1:7860\n",
      "\n",
      "Thanks for being a Gradio user! If you have questions or feedback, please join our Discord server and chat with us: https://discord.gg/feTf9x3ZSB\n",
      "\n",
      "To create a public link, set `share=True` in `launch()`.\n"
     ]
    },
    {
     "data": {
      "text/html": [
       "<div><iframe src=\"http://127.0.0.1:7860/\" width=\"100%\" height=\"500\" allow=\"autoplay; camera; microphone; clipboard-read; clipboard-write;\" frameborder=\"0\" allowfullscreen></iframe></div>"
      ],
      "text/plain": [
       "<IPython.core.display.HTML object>"
      ]
     },
     "metadata": {},
     "output_type": "display_data"
    },
    {
     "name": "stdout",
     "output_type": "stream",
     "text": [
      "Placeholder B\n",
      "<class 'str'>\n",
      "['Placeholder B Remastered', 'Placeholder B: The Remake', 'Placeholder B: Game of the Year Edition', 'Placeholder B Steelbook Edition']\n",
      "Placeholder C\n",
      "<class 'str'>\n",
      "['Placeholder C Remastered', 'Placeholder C: The Remake', 'Placeholder C: Game of the Year Edition', 'Placeholder C Steelbook Edition']\n",
      "Keyboard interruption in main thread... closing server.\n"
     ]
    },
    {
     "data": {
      "text/plain": []
     },
     "execution_count": 34,
     "metadata": {},
     "output_type": "execute_result"
    }
   ],
   "source": [
    "import gradio as gr\n",
    "\n",
    "def Dropdown_list(x):\n",
    "    # 直接返回新的选项列表\n",
    "    print(x)\n",
    "    print(type(x))\n",
    "    new_options = [x + \" Remastered\", x + \": The Remake\", x + \": Game of the Year Edition\", x + \" Steelbook Edition\"]\n",
    "    print(new_options)\n",
    "    return gr.Dropdown(choices=new_options)\n",
    "\n",
    "def test(x):\n",
    "    a = x**2\n",
    "\n",
    "demo = gr.Blocks()\n",
    "\n",
    "options = ['Placeholder A', 'Placeholder B', 'Placeholder C']\n",
    "options2 = ['Placeholder A', 'Placeholder B', 'Placeholder C']\n",
    "\n",
    "with demo:\n",
    "\n",
    "    text_options = gr.Dropdown(options, label=\"Top 5 options\")\n",
    "    b2 = gr.Button(\"Provide Additional options\")\n",
    "    b3 = gr.Button(\"Provide Additional options\")\n",
    "    text_options2 = gr.Dropdown(options2, label=\"Test 5 options\")\n",
    "    text_options.change(Dropdown_list, inputs=text_options, outputs=text_options2)\n",
    "    # b2.click(Dropdown_list, inputs=text_options, outputs=text_options2)\n",
    "    b3.click(test, text_options2)\n",
    "\n",
    "demo.launch(debug=True)\n"
   ]
  },
  {
   "cell_type": "code",
   "execution_count": 32,
   "metadata": {},
   "outputs": [
    {
     "name": "stdout",
     "output_type": "stream",
     "text": [
      "Running on local URL:  http://127.0.0.1:7860\n",
      "\n",
      "To create a public link, set `share=True` in `launch()`.\n"
     ]
    },
    {
     "data": {
      "text/html": [
       "<div><iframe src=\"http://127.0.0.1:7860/\" width=\"100%\" height=\"500\" allow=\"autoplay; camera; microphone; clipboard-read; clipboard-write;\" frameborder=\"0\" allowfullscreen></iframe></div>"
      ],
      "text/plain": [
       "<IPython.core.display.HTML object>"
      ]
     },
     "metadata": {},
     "output_type": "display_data"
    },
    {
     "name": "stdout",
     "output_type": "stream",
     "text": [
      "Keyboard interruption in main thread... closing server.\n"
     ]
    },
    {
     "data": {
      "text/plain": []
     },
     "execution_count": 32,
     "metadata": {},
     "output_type": "execute_result"
    }
   ],
   "source": [
    "import gradio as gr\n",
    "\n",
    "def closest_match(x):\n",
    "    return x + \": The Definitive Edition\"\n",
    "\n",
    "def Dropdown_list(x):\n",
    "    new_options =  [*options, x + \" Remastered\", x + \": The Remake\", x + \": Game of the Year Edition\", x + \" Steelbook Edition\"]\n",
    "    return gr.Dropdown(choices=new_options)\n",
    "\n",
    "\n",
    "demo = gr.Blocks()\n",
    "\n",
    "options = ['Placeholder A', 'Placeholder B', 'Placeholder C']\n",
    "with demo:\n",
    "    text_input = gr.Textbox(label=\"Search bar\")\n",
    "    b1 = gr.Button(\"Match Closest Title\")\n",
    "\n",
    "    text_options = gr.Dropdown(options, label=\"Top 5 options\")\n",
    "    b2 = gr.Button(\"Provide Additional options\")\n",
    "\n",
    "    b3 = gr.Button(\"Recommend a new title\")\n",
    "\n",
    "    b1.click(closest_match, inputs=text_input, outputs=text_options)\n",
    "    b2.click(Dropdown_list, inputs=text_input, outputs=text_options)\n",
    "    b3.click(closest_match, inputs=text_options, outputs=text_input)\n",
    "    # text_options.update(interactive=True)\n",
    "\n",
    "\n",
    "demo.launch(debug=True)"
   ]
  }
 ],
 "metadata": {
  "kernelspec": {
   "display_name": "base",
   "language": "python",
   "name": "python3"
  },
  "language_info": {
   "codemirror_mode": {
    "name": "ipython",
    "version": 3
   },
   "file_extension": ".py",
   "mimetype": "text/x-python",
   "name": "python",
   "nbconvert_exporter": "python",
   "pygments_lexer": "ipython3",
   "version": "3.11.5"
  }
 },
 "nbformat": 4,
 "nbformat_minor": 2
}
